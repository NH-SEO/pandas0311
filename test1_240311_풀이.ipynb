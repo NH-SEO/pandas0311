{
 "cells": [
  {
   "cell_type": "code",
   "execution_count": 61,
   "id": "882fb6c5",
   "metadata": {},
   "outputs": [],
   "source": [
    "import warnings\n",
    "warnings.filterwarnings('ignore')\n",
    "\n",
    "import pandas as pd\n",
    "import numpy as np"
   ]
  },
  {
   "cell_type": "code",
   "execution_count": 66,
   "id": "d4d92887",
   "metadata": {},
   "outputs": [],
   "source": [
    "df  = pd.read_csv('indian_food2.csv', na_values=['nan', '', ' '])\n",
    "# df.replace({'nan': np.nan, ' ': np.nan, '': np.nan}).isna().sum()"
   ]
  },
  {
   "cell_type": "code",
   "execution_count": 67,
   "id": "1b04472f",
   "metadata": {},
   "outputs": [
    {
     "data": {
      "text/plain": [
       "id                0\n",
       "name              0\n",
       "ingredients       0\n",
       "diet              0\n",
       "prep_time         0\n",
       "cook_time         0\n",
       "flavor_profile    0\n",
       "course            0\n",
       "state             0\n",
       "region            1\n",
       "dtype: int64"
      ]
     },
     "execution_count": 67,
     "metadata": {},
     "output_type": "execute_result"
    }
   ],
   "source": [
    "df.isna().sum()"
   ]
  },
  {
   "cell_type": "code",
   "execution_count": 68,
   "id": "2a38cdab",
   "metadata": {},
   "outputs": [
    {
     "data": {
      "text/html": [
       "<div>\n",
       "<style scoped>\n",
       "    .dataframe tbody tr th:only-of-type {\n",
       "        vertical-align: middle;\n",
       "    }\n",
       "\n",
       "    .dataframe tbody tr th {\n",
       "        vertical-align: top;\n",
       "    }\n",
       "\n",
       "    .dataframe thead th {\n",
       "        text-align: right;\n",
       "    }\n",
       "</style>\n",
       "<table border=\"1\" class=\"dataframe\">\n",
       "  <thead>\n",
       "    <tr style=\"text-align: right;\">\n",
       "      <th></th>\n",
       "      <th>id</th>\n",
       "      <th>name</th>\n",
       "      <th>ingredients</th>\n",
       "      <th>diet</th>\n",
       "      <th>prep_time</th>\n",
       "      <th>cook_time</th>\n",
       "      <th>flavor_profile</th>\n",
       "      <th>course</th>\n",
       "      <th>state</th>\n",
       "      <th>region</th>\n",
       "    </tr>\n",
       "  </thead>\n",
       "  <tbody>\n",
       "    <tr>\n",
       "      <td>0</td>\n",
       "      <td>1</td>\n",
       "      <td>Balu shahi</td>\n",
       "      <td>Maida flour, yogurt, oil, sugar</td>\n",
       "      <td>vegetarian</td>\n",
       "      <td>45</td>\n",
       "      <td>25</td>\n",
       "      <td>sweet</td>\n",
       "      <td>dessert</td>\n",
       "      <td>West Bengal</td>\n",
       "      <td>East</td>\n",
       "    </tr>\n",
       "    <tr>\n",
       "      <td>1</td>\n",
       "      <td>2</td>\n",
       "      <td>Boondi</td>\n",
       "      <td>Gram flour, ghee, sugar</td>\n",
       "      <td>vegetarian</td>\n",
       "      <td>80</td>\n",
       "      <td>30</td>\n",
       "      <td>sweet</td>\n",
       "      <td>dessert</td>\n",
       "      <td>Rajasthan</td>\n",
       "      <td>West</td>\n",
       "    </tr>\n",
       "    <tr>\n",
       "      <td>2</td>\n",
       "      <td>3</td>\n",
       "      <td>Gajar ka halwa</td>\n",
       "      <td>Carrots, milk, sugar, ghee, cashews, raisins</td>\n",
       "      <td>vegetarian</td>\n",
       "      <td>15</td>\n",
       "      <td>60</td>\n",
       "      <td>sweet</td>\n",
       "      <td>dessert</td>\n",
       "      <td>Punjab</td>\n",
       "      <td>North</td>\n",
       "    </tr>\n",
       "    <tr>\n",
       "      <td>3</td>\n",
       "      <td>4</td>\n",
       "      <td>Ghevar</td>\n",
       "      <td>Flour, ghee, kewra, milk, clarified butter, su...</td>\n",
       "      <td>vegetarian</td>\n",
       "      <td>15</td>\n",
       "      <td>30</td>\n",
       "      <td>sweet</td>\n",
       "      <td>dessert</td>\n",
       "      <td>Rajasthan</td>\n",
       "      <td>West</td>\n",
       "    </tr>\n",
       "    <tr>\n",
       "      <td>4</td>\n",
       "      <td>5</td>\n",
       "      <td>Gulab jamun</td>\n",
       "      <td>Milk powder, plain flour, baking powder, ghee,...</td>\n",
       "      <td>vegetarian</td>\n",
       "      <td>15</td>\n",
       "      <td>40</td>\n",
       "      <td>sweet</td>\n",
       "      <td>dessert</td>\n",
       "      <td>West Bengal</td>\n",
       "      <td>East</td>\n",
       "    </tr>\n",
       "  </tbody>\n",
       "</table>\n",
       "</div>"
      ],
      "text/plain": [
       "   id            name                                        ingredients  \\\n",
       "0   1      Balu shahi                    Maida flour, yogurt, oil, sugar   \n",
       "1   2          Boondi                            Gram flour, ghee, sugar   \n",
       "2   3  Gajar ka halwa       Carrots, milk, sugar, ghee, cashews, raisins   \n",
       "3   4          Ghevar  Flour, ghee, kewra, milk, clarified butter, su...   \n",
       "4   5     Gulab jamun  Milk powder, plain flour, baking powder, ghee,...   \n",
       "\n",
       "         diet  prep_time  cook_time flavor_profile   course        state  \\\n",
       "0  vegetarian         45         25          sweet  dessert  West Bengal   \n",
       "1  vegetarian         80         30          sweet  dessert    Rajasthan   \n",
       "2  vegetarian         15         60          sweet  dessert       Punjab   \n",
       "3  vegetarian         15         30          sweet  dessert    Rajasthan   \n",
       "4  vegetarian         15         40          sweet  dessert  West Bengal   \n",
       "\n",
       "  region  \n",
       "0   East  \n",
       "1   West  \n",
       "2  North  \n",
       "3   West  \n",
       "4   East  "
      ]
     },
     "execution_count": 68,
     "metadata": {},
     "output_type": "execute_result"
    }
   ],
   "source": [
    "df.head()"
   ]
  },
  {
   "cell_type": "markdown",
   "id": "08bd0337",
   "metadata": {},
   "source": [
    "# 1-1"
   ]
  },
  {
   "cell_type": "code",
   "execution_count": 69,
   "id": "1775526d",
   "metadata": {},
   "outputs": [
    {
     "data": {
      "text/html": [
       "<div>\n",
       "<style scoped>\n",
       "    .dataframe tbody tr th:only-of-type {\n",
       "        vertical-align: middle;\n",
       "    }\n",
       "\n",
       "    .dataframe tbody tr th {\n",
       "        vertical-align: top;\n",
       "    }\n",
       "\n",
       "    .dataframe thead th {\n",
       "        text-align: right;\n",
       "    }\n",
       "</style>\n",
       "<table border=\"1\" class=\"dataframe\">\n",
       "  <thead>\n",
       "    <tr style=\"text-align: right;\">\n",
       "      <th></th>\n",
       "      <th>id</th>\n",
       "      <th>name</th>\n",
       "      <th>ingredients</th>\n",
       "      <th>diet</th>\n",
       "      <th>prep_time</th>\n",
       "      <th>cook_time</th>\n",
       "      <th>flavor_profile</th>\n",
       "      <th>course</th>\n",
       "      <th>region</th>\n",
       "    </tr>\n",
       "  </thead>\n",
       "  <tbody>\n",
       "    <tr>\n",
       "      <td>0</td>\n",
       "      <td>1</td>\n",
       "      <td>Balu shahi</td>\n",
       "      <td>Maida flour, yogurt, oil, sugar</td>\n",
       "      <td>vegetarian</td>\n",
       "      <td>45</td>\n",
       "      <td>25</td>\n",
       "      <td>sweet</td>\n",
       "      <td>dessert</td>\n",
       "      <td>East</td>\n",
       "    </tr>\n",
       "    <tr>\n",
       "      <td>1</td>\n",
       "      <td>2</td>\n",
       "      <td>Boondi</td>\n",
       "      <td>Gram flour, ghee, sugar</td>\n",
       "      <td>vegetarian</td>\n",
       "      <td>80</td>\n",
       "      <td>30</td>\n",
       "      <td>sweet</td>\n",
       "      <td>dessert</td>\n",
       "      <td>West</td>\n",
       "    </tr>\n",
       "    <tr>\n",
       "      <td>2</td>\n",
       "      <td>3</td>\n",
       "      <td>Gajar ka halwa</td>\n",
       "      <td>Carrots, milk, sugar, ghee, cashews, raisins</td>\n",
       "      <td>vegetarian</td>\n",
       "      <td>15</td>\n",
       "      <td>60</td>\n",
       "      <td>sweet</td>\n",
       "      <td>dessert</td>\n",
       "      <td>North</td>\n",
       "    </tr>\n",
       "    <tr>\n",
       "      <td>3</td>\n",
       "      <td>4</td>\n",
       "      <td>Ghevar</td>\n",
       "      <td>Flour, ghee, kewra, milk, clarified butter, su...</td>\n",
       "      <td>vegetarian</td>\n",
       "      <td>15</td>\n",
       "      <td>30</td>\n",
       "      <td>sweet</td>\n",
       "      <td>dessert</td>\n",
       "      <td>West</td>\n",
       "    </tr>\n",
       "    <tr>\n",
       "      <td>4</td>\n",
       "      <td>5</td>\n",
       "      <td>Gulab jamun</td>\n",
       "      <td>Milk powder, plain flour, baking powder, ghee,...</td>\n",
       "      <td>vegetarian</td>\n",
       "      <td>15</td>\n",
       "      <td>40</td>\n",
       "      <td>sweet</td>\n",
       "      <td>dessert</td>\n",
       "      <td>East</td>\n",
       "    </tr>\n",
       "  </tbody>\n",
       "</table>\n",
       "</div>"
      ],
      "text/plain": [
       "   id            name                                        ingredients  \\\n",
       "0   1      Balu shahi                    Maida flour, yogurt, oil, sugar   \n",
       "1   2          Boondi                            Gram flour, ghee, sugar   \n",
       "2   3  Gajar ka halwa       Carrots, milk, sugar, ghee, cashews, raisins   \n",
       "3   4          Ghevar  Flour, ghee, kewra, milk, clarified butter, su...   \n",
       "4   5     Gulab jamun  Milk powder, plain flour, baking powder, ghee,...   \n",
       "\n",
       "         diet  prep_time  cook_time flavor_profile   course region  \n",
       "0  vegetarian         45         25          sweet  dessert   East  \n",
       "1  vegetarian         80         30          sweet  dessert   West  \n",
       "2  vegetarian         15         60          sweet  dessert  North  \n",
       "3  vegetarian         15         30          sweet  dessert   West  \n",
       "4  vegetarian         15         40          sweet  dessert   East  "
      ]
     },
     "execution_count": 69,
     "metadata": {},
     "output_type": "execute_result"
    }
   ],
   "source": [
    "df = df.drop(columns='state')\n",
    "df.head()"
   ]
  },
  {
   "cell_type": "markdown",
   "id": "afeda6b9",
   "metadata": {},
   "source": [
    "# 1-2"
   ]
  },
  {
   "cell_type": "code",
   "execution_count": 42,
   "id": "ec1702e6",
   "metadata": {},
   "outputs": [],
   "source": [
    "df = df[(df['cook_time'] > 0) & (df['prep_time'] > 0)]"
   ]
  },
  {
   "cell_type": "markdown",
   "id": "a930d4e7",
   "metadata": {},
   "source": [
    "# 1-3"
   ]
  },
  {
   "cell_type": "code",
   "execution_count": 44,
   "id": "d6038432",
   "metadata": {},
   "outputs": [],
   "source": [
    "df = df[~df['region'].isin(['-1', ''])]\n",
    "df['region'] = df['region'].replace({'North East': 'North'})"
   ]
  },
  {
   "cell_type": "code",
   "execution_count": 46,
   "id": "1d8e08b3",
   "metadata": {},
   "outputs": [],
   "source": [
    "df = df.dropna(subset=['region'])"
   ]
  },
  {
   "cell_type": "markdown",
   "id": "e27e1abb",
   "metadata": {},
   "source": [
    "# 1-4\n",
    "## np.where(조건~~~~, True, False)"
   ]
  },
  {
   "cell_type": "code",
   "execution_count": 75,
   "id": "7770ae6c",
   "metadata": {},
   "outputs": [],
   "source": [
    "df['ed_flavor_profile'] = np.where(df['flavor_profile'] == 'sweet',\\\n",
    "                                   'sweet',\\\n",
    "                                   'not sweet')"
   ]
  },
  {
   "cell_type": "markdown",
   "id": "a0a64178",
   "metadata": {},
   "source": [
    "# 1-5"
   ]
  },
  {
   "cell_type": "code",
   "execution_count": 76,
   "id": "fa3d73a5",
   "metadata": {},
   "outputs": [],
   "source": [
    "df['ed_course'] = np.where(df['course'] == 'main course', \\\n",
    "                           'main course',\\\n",
    "                           'not main course')"
   ]
  },
  {
   "cell_type": "markdown",
   "id": "91c4d245",
   "metadata": {},
   "source": [
    "# 1-6"
   ]
  },
  {
   "cell_type": "code",
   "execution_count": 77,
   "id": "53f2d6c2",
   "metadata": {
    "scrolled": true
   },
   "outputs": [
    {
     "data": {
      "text/plain": [
       "0       4\n",
       "1       3\n",
       "2       6\n",
       "3      10\n",
       "4       8\n",
       "       ..\n",
       "250     3\n",
       "251     4\n",
       "252     5\n",
       "253     4\n",
       "254     5\n",
       "Name: ingredients, Length: 255, dtype: int64"
      ]
     },
     "execution_count": 77,
     "metadata": {},
     "output_type": "execute_result"
    }
   ],
   "source": [
    "df['ingredients'].str.split(', ').str.len()"
   ]
  },
  {
   "cell_type": "code",
   "execution_count": 56,
   "id": "bdfe578e",
   "metadata": {},
   "outputs": [
    {
     "data": {
      "text/plain": [
       "0       4\n",
       "1       3\n",
       "2       6\n",
       "3      10\n",
       "4       8\n",
       "       ..\n",
       "247     5\n",
       "249     5\n",
       "250     3\n",
       "251     4\n",
       "253     4\n",
       "Name: ingredients, Length: 212, dtype: int64"
      ]
     },
     "execution_count": 56,
     "metadata": {},
     "output_type": "execute_result"
    }
   ],
   "source": [
    "df['ingredients'].str.split(', ').map(lambda x: len(x))"
   ]
  },
  {
   "cell_type": "code",
   "execution_count": 57,
   "id": "31eda1ce",
   "metadata": {},
   "outputs": [
    {
     "data": {
      "text/plain": [
       "0       4\n",
       "1       3\n",
       "2       6\n",
       "3      10\n",
       "4       8\n",
       "       ..\n",
       "247     5\n",
       "249     5\n",
       "250     3\n",
       "251     4\n",
       "253     4\n",
       "Name: ingredients, Length: 212, dtype: int64"
      ]
     },
     "execution_count": 57,
     "metadata": {},
     "output_type": "execute_result"
    }
   ],
   "source": [
    "df['ingredients'].str.split(', ').str.len()"
   ]
  },
  {
   "cell_type": "code",
   "execution_count": null,
   "id": "cfa89e4a",
   "metadata": {},
   "outputs": [],
   "source": []
  },
  {
   "cell_type": "code",
   "execution_count": null,
   "id": "703dfb01",
   "metadata": {},
   "outputs": [],
   "source": []
  },
  {
   "cell_type": "code",
   "execution_count": null,
   "id": "42b47062",
   "metadata": {},
   "outputs": [],
   "source": []
  },
  {
   "cell_type": "code",
   "execution_count": null,
   "id": "7a9ce382",
   "metadata": {},
   "outputs": [],
   "source": []
  },
  {
   "cell_type": "code",
   "execution_count": null,
   "id": "a55ef290",
   "metadata": {},
   "outputs": [],
   "source": []
  }
 ],
 "metadata": {
  "kernelspec": {
   "display_name": "Python 3 (ipykernel)",
   "language": "python",
   "name": "python3"
  },
  "language_info": {
   "codemirror_mode": {
    "name": "ipython",
    "version": 3
   },
   "file_extension": ".py",
   "mimetype": "text/x-python",
   "name": "python",
   "nbconvert_exporter": "python",
   "pygments_lexer": "ipython3",
   "version": "3.7.4"
  }
 },
 "nbformat": 4,
 "nbformat_minor": 5
}
